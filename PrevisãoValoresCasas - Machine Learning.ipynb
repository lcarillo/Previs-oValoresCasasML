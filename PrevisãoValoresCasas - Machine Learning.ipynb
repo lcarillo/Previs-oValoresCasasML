{
 "cells": [
  {
   "cell_type": "code",
   "execution_count": 191,
   "id": "aaacb5a3",
   "metadata": {},
   "outputs": [
    {
     "data": {
      "text/html": [
       "<div>\n",
       "<style scoped>\n",
       "    .dataframe tbody tr th:only-of-type {\n",
       "        vertical-align: middle;\n",
       "    }\n",
       "\n",
       "    .dataframe tbody tr th {\n",
       "        vertical-align: top;\n",
       "    }\n",
       "\n",
       "    .dataframe thead th {\n",
       "        text-align: right;\n",
       "    }\n",
       "</style>\n",
       "<table border=\"1\" class=\"dataframe\">\n",
       "  <thead>\n",
       "    <tr style=\"text-align: right;\">\n",
       "      <th></th>\n",
       "      <th>furniture</th>\n",
       "      <th>type</th>\n",
       "      <th>url</th>\n",
       "      <th>rate</th>\n",
       "      <th>delivery</th>\n",
       "      <th>sale</th>\n",
       "      <th>price</th>\n",
       "    </tr>\n",
       "  </thead>\n",
       "  <tbody>\n",
       "    <tr>\n",
       "      <th>0</th>\n",
       "      <td>Bed side table with storage shelf</td>\n",
       "      <td>Home Decor Center</td>\n",
       "      <td>https://www.jumia.com.eg//ar/home-decor-center...</td>\n",
       "      <td>3.3</td>\n",
       "      <td>172.14</td>\n",
       "      <td>72%</td>\n",
       "      <td>2500.0</td>\n",
       "    </tr>\n",
       "    <tr>\n",
       "      <th>1</th>\n",
       "      <td>Bed side table with storage shelf</td>\n",
       "      <td>Modern Home</td>\n",
       "      <td>https://www.jumia.com.eg//ar/modern-home-bedsi...</td>\n",
       "      <td>0.0</td>\n",
       "      <td>172.14</td>\n",
       "      <td>54%</td>\n",
       "      <td>1200.0</td>\n",
       "    </tr>\n",
       "    <tr>\n",
       "      <th>2</th>\n",
       "      <td>Modern Zigzag TV Table</td>\n",
       "      <td>Modern Home</td>\n",
       "      <td>https://www.jumia.com.eg//ar/generic-zigzag-tv...</td>\n",
       "      <td>0.0</td>\n",
       "      <td>172.14</td>\n",
       "      <td>18%</td>\n",
       "      <td>1099.0</td>\n",
       "    </tr>\n",
       "    <tr>\n",
       "      <th>3</th>\n",
       "      <td>Bedside table with storage shelf</td>\n",
       "      <td>Modern Home</td>\n",
       "      <td>https://www.jumia.com.eg//ar/modern-home-bedsi...</td>\n",
       "      <td>0.0</td>\n",
       "      <td>172.14</td>\n",
       "      <td>58%</td>\n",
       "      <td>1200.0</td>\n",
       "    </tr>\n",
       "    <tr>\n",
       "      <th>4</th>\n",
       "      <td>Wall Mounted TV Unit with Cabinet TV Stand Uni...</td>\n",
       "      <td>Modern Home</td>\n",
       "      <td>https://www.jumia.com.eg//ar/modern-home-wall-...</td>\n",
       "      <td>5.0</td>\n",
       "      <td>52.44</td>\n",
       "      <td>54%</td>\n",
       "      <td>1400.0</td>\n",
       "    </tr>\n",
       "    <tr>\n",
       "      <th>...</th>\n",
       "      <td>...</td>\n",
       "      <td>...</td>\n",
       "      <td>...</td>\n",
       "      <td>...</td>\n",
       "      <td>...</td>\n",
       "      <td>...</td>\n",
       "      <td>...</td>\n",
       "    </tr>\n",
       "    <tr>\n",
       "      <th>1995</th>\n",
       "      <td>Casio Standard Analogue Ladys Standard Analog ...</td>\n",
       "      <td>Casio Standard Analogue Ladys Standard Analog ...</td>\n",
       "      <td>https://www.jumia.com.eg//ar/casio-standard-an...</td>\n",
       "      <td>0.0</td>\n",
       "      <td>656.28</td>\n",
       "      <td>0%</td>\n",
       "      <td>1632.0</td>\n",
       "    </tr>\n",
       "    <tr>\n",
       "      <th>1996</th>\n",
       "      <td>Coffee table + side table</td>\n",
       "      <td>Hub Furniture</td>\n",
       "      <td>https://www.jumia.com.eg//ar/hub-furniture-ae-...</td>\n",
       "      <td>0.0</td>\n",
       "      <td>172.14</td>\n",
       "      <td>0%</td>\n",
       "      <td>11450.0</td>\n",
       "    </tr>\n",
       "    <tr>\n",
       "      <th>1997</th>\n",
       "      <td>Ben Togo Baby Bed</td>\n",
       "      <td>Bean GO</td>\n",
       "      <td>https://www.jumia.com.eg//ar/bean2go-newborn-b...</td>\n",
       "      <td>0.0</td>\n",
       "      <td>52.44</td>\n",
       "      <td>0%</td>\n",
       "      <td>550.0</td>\n",
       "    </tr>\n",
       "    <tr>\n",
       "      <th>1998</th>\n",
       "      <td>Cloud memory foam mattress (medical)</td>\n",
       "      <td>CIREM</td>\n",
       "      <td>https://www.jumia.com.eg//ar/cirem-cloud-memor...</td>\n",
       "      <td>0.0</td>\n",
       "      <td>172.14</td>\n",
       "      <td>9%</td>\n",
       "      <td>8495.0</td>\n",
       "    </tr>\n",
       "    <tr>\n",
       "      <th>1999</th>\n",
       "      <td>Comfy memory foam mattress</td>\n",
       "      <td>CIREM</td>\n",
       "      <td>https://www.jumia.com.eg//ar/cirem-comfy-medic...</td>\n",
       "      <td>0.0</td>\n",
       "      <td>172.14</td>\n",
       "      <td>10%</td>\n",
       "      <td>10775.0</td>\n",
       "    </tr>\n",
       "  </tbody>\n",
       "</table>\n",
       "<p>2000 rows × 7 columns</p>\n",
       "</div>"
      ],
      "text/plain": [
       "                                              furniture  ...    price\n",
       "0                    Bed side table with storage shelf   ...   2500.0\n",
       "1                    Bed side table with storage shelf   ...   1200.0\n",
       "2                               Modern Zigzag TV Table   ...   1099.0\n",
       "3                     Bedside table with storage shelf   ...   1200.0\n",
       "4     Wall Mounted TV Unit with Cabinet TV Stand Uni...  ...   1400.0\n",
       "...                                                 ...  ...      ...\n",
       "1995  Casio Standard Analogue Ladys Standard Analog ...  ...   1632.0\n",
       "1996                          Coffee table + side table  ...  11450.0\n",
       "1997                                 Ben Togo Baby Bed   ...    550.0\n",
       "1998               Cloud memory foam mattress (medical)  ...   8495.0\n",
       "1999                         Comfy memory foam mattress  ...  10775.0\n",
       "\n",
       "[2000 rows x 7 columns]"
      ]
     },
     "metadata": {},
     "output_type": "display_data"
    }
   ],
   "source": [
    "import pandas as pd\n",
    "\n",
    "df = pd.read_csv(r\"C:\\Users\\lucas.carillo\\Downloads\\FurniturePricePrediction.csv\")\n",
    "display(df)"
   ]
  },
  {
   "cell_type": "code",
   "execution_count": 192,
   "id": "37211802",
   "metadata": {},
   "outputs": [
    {
     "data": {
      "text/html": [
       "<div>\n",
       "<style scoped>\n",
       "    .dataframe tbody tr th:only-of-type {\n",
       "        vertical-align: middle;\n",
       "    }\n",
       "\n",
       "    .dataframe tbody tr th {\n",
       "        vertical-align: top;\n",
       "    }\n",
       "\n",
       "    .dataframe thead th {\n",
       "        text-align: right;\n",
       "    }\n",
       "</style>\n",
       "<table border=\"1\" class=\"dataframe\">\n",
       "  <thead>\n",
       "    <tr style=\"text-align: right;\">\n",
       "      <th></th>\n",
       "      <th>furniture</th>\n",
       "      <th>type</th>\n",
       "      <th>url</th>\n",
       "      <th>rate</th>\n",
       "      <th>delivery</th>\n",
       "      <th>sale</th>\n",
       "      <th>price</th>\n",
       "    </tr>\n",
       "  </thead>\n",
       "  <tbody>\n",
       "    <tr>\n",
       "      <th>0</th>\n",
       "      <td>Bed side table with storage shelf</td>\n",
       "      <td>Home Decor Center</td>\n",
       "      <td>https://www.jumia.com.eg//ar/home-decor-center...</td>\n",
       "      <td>3.3</td>\n",
       "      <td>172.14</td>\n",
       "      <td>72%</td>\n",
       "      <td>2500.0</td>\n",
       "    </tr>\n",
       "    <tr>\n",
       "      <th>1</th>\n",
       "      <td>Bed side table with storage shelf</td>\n",
       "      <td>Modern Home</td>\n",
       "      <td>https://www.jumia.com.eg//ar/modern-home-bedsi...</td>\n",
       "      <td>0.0</td>\n",
       "      <td>172.14</td>\n",
       "      <td>54%</td>\n",
       "      <td>1200.0</td>\n",
       "    </tr>\n",
       "    <tr>\n",
       "      <th>2</th>\n",
       "      <td>Modern Zigzag TV Table</td>\n",
       "      <td>Modern Home</td>\n",
       "      <td>https://www.jumia.com.eg//ar/generic-zigzag-tv...</td>\n",
       "      <td>0.0</td>\n",
       "      <td>172.14</td>\n",
       "      <td>18%</td>\n",
       "      <td>1099.0</td>\n",
       "    </tr>\n",
       "    <tr>\n",
       "      <th>3</th>\n",
       "      <td>Bedside table with storage shelf</td>\n",
       "      <td>Modern Home</td>\n",
       "      <td>https://www.jumia.com.eg//ar/modern-home-bedsi...</td>\n",
       "      <td>0.0</td>\n",
       "      <td>172.14</td>\n",
       "      <td>58%</td>\n",
       "      <td>1200.0</td>\n",
       "    </tr>\n",
       "    <tr>\n",
       "      <th>4</th>\n",
       "      <td>Wall Mounted TV Unit with Cabinet TV Stand Uni...</td>\n",
       "      <td>Modern Home</td>\n",
       "      <td>https://www.jumia.com.eg//ar/modern-home-wall-...</td>\n",
       "      <td>5.0</td>\n",
       "      <td>52.44</td>\n",
       "      <td>54%</td>\n",
       "      <td>1400.0</td>\n",
       "    </tr>\n",
       "  </tbody>\n",
       "</table>\n",
       "</div>"
      ],
      "text/plain": [
       "                                           furniture               type  ... sale   price\n",
       "0                 Bed side table with storage shelf   Home Decor Center  ...  72%  2500.0\n",
       "1                 Bed side table with storage shelf         Modern Home  ...  54%  1200.0\n",
       "2                            Modern Zigzag TV Table         Modern Home  ...  18%  1099.0\n",
       "3                  Bedside table with storage shelf         Modern Home  ...  58%  1200.0\n",
       "4  Wall Mounted TV Unit with Cabinet TV Stand Uni...        Modern Home  ...  54%  1400.0\n",
       "\n",
       "[5 rows x 7 columns]"
      ]
     },
     "execution_count": 192,
     "metadata": {},
     "output_type": "execute_result"
    }
   ],
   "source": [
    "#primeiras 5 linhas do df\n",
    "df.head()"
   ]
  },
  {
   "cell_type": "code",
   "execution_count": 193,
   "id": "c8d2d520",
   "metadata": {},
   "outputs": [
    {
     "data": {
      "text/html": [
       "<div>\n",
       "<style scoped>\n",
       "    .dataframe tbody tr th:only-of-type {\n",
       "        vertical-align: middle;\n",
       "    }\n",
       "\n",
       "    .dataframe tbody tr th {\n",
       "        vertical-align: top;\n",
       "    }\n",
       "\n",
       "    .dataframe thead th {\n",
       "        text-align: right;\n",
       "    }\n",
       "</style>\n",
       "<table border=\"1\" class=\"dataframe\">\n",
       "  <thead>\n",
       "    <tr style=\"text-align: right;\">\n",
       "      <th></th>\n",
       "      <th>furniture</th>\n",
       "      <th>type</th>\n",
       "      <th>url</th>\n",
       "      <th>rate</th>\n",
       "      <th>delivery</th>\n",
       "      <th>sale</th>\n",
       "      <th>price</th>\n",
       "    </tr>\n",
       "  </thead>\n",
       "  <tbody>\n",
       "    <tr>\n",
       "      <th>1995</th>\n",
       "      <td>Casio Standard Analogue Ladys Standard Analog ...</td>\n",
       "      <td>Casio Standard Analogue Ladys Standard Analog ...</td>\n",
       "      <td>https://www.jumia.com.eg//ar/casio-standard-an...</td>\n",
       "      <td>0.0</td>\n",
       "      <td>656.28</td>\n",
       "      <td>0%</td>\n",
       "      <td>1632.0</td>\n",
       "    </tr>\n",
       "    <tr>\n",
       "      <th>1996</th>\n",
       "      <td>Coffee table + side table</td>\n",
       "      <td>Hub Furniture</td>\n",
       "      <td>https://www.jumia.com.eg//ar/hub-furniture-ae-...</td>\n",
       "      <td>0.0</td>\n",
       "      <td>172.14</td>\n",
       "      <td>0%</td>\n",
       "      <td>11450.0</td>\n",
       "    </tr>\n",
       "    <tr>\n",
       "      <th>1997</th>\n",
       "      <td>Ben Togo Baby Bed</td>\n",
       "      <td>Bean GO</td>\n",
       "      <td>https://www.jumia.com.eg//ar/bean2go-newborn-b...</td>\n",
       "      <td>0.0</td>\n",
       "      <td>52.44</td>\n",
       "      <td>0%</td>\n",
       "      <td>550.0</td>\n",
       "    </tr>\n",
       "    <tr>\n",
       "      <th>1998</th>\n",
       "      <td>Cloud memory foam mattress (medical)</td>\n",
       "      <td>CIREM</td>\n",
       "      <td>https://www.jumia.com.eg//ar/cirem-cloud-memor...</td>\n",
       "      <td>0.0</td>\n",
       "      <td>172.14</td>\n",
       "      <td>9%</td>\n",
       "      <td>8495.0</td>\n",
       "    </tr>\n",
       "    <tr>\n",
       "      <th>1999</th>\n",
       "      <td>Comfy memory foam mattress</td>\n",
       "      <td>CIREM</td>\n",
       "      <td>https://www.jumia.com.eg//ar/cirem-comfy-medic...</td>\n",
       "      <td>0.0</td>\n",
       "      <td>172.14</td>\n",
       "      <td>10%</td>\n",
       "      <td>10775.0</td>\n",
       "    </tr>\n",
       "  </tbody>\n",
       "</table>\n",
       "</div>"
      ],
      "text/plain": [
       "                                              furniture  ...    price\n",
       "1995  Casio Standard Analogue Ladys Standard Analog ...  ...   1632.0\n",
       "1996                          Coffee table + side table  ...  11450.0\n",
       "1997                                 Ben Togo Baby Bed   ...    550.0\n",
       "1998               Cloud memory foam mattress (medical)  ...   8495.0\n",
       "1999                         Comfy memory foam mattress  ...  10775.0\n",
       "\n",
       "[5 rows x 7 columns]"
      ]
     },
     "execution_count": 193,
     "metadata": {},
     "output_type": "execute_result"
    }
   ],
   "source": [
    "#últimas 5 linhas do df\n",
    "df.tail()"
   ]
  },
  {
   "cell_type": "code",
   "execution_count": 194,
   "id": "6a8a8398",
   "metadata": {},
   "outputs": [
    {
     "data": {
      "text/html": [
       "<div>\n",
       "<style scoped>\n",
       "    .dataframe tbody tr th:only-of-type {\n",
       "        vertical-align: middle;\n",
       "    }\n",
       "\n",
       "    .dataframe tbody tr th {\n",
       "        vertical-align: top;\n",
       "    }\n",
       "\n",
       "    .dataframe thead th {\n",
       "        text-align: right;\n",
       "    }\n",
       "</style>\n",
       "<table border=\"1\" class=\"dataframe\">\n",
       "  <thead>\n",
       "    <tr style=\"text-align: right;\">\n",
       "      <th></th>\n",
       "      <th>rate</th>\n",
       "      <th>delivery</th>\n",
       "      <th>price</th>\n",
       "    </tr>\n",
       "  </thead>\n",
       "  <tbody>\n",
       "    <tr>\n",
       "      <th>count</th>\n",
       "      <td>2000.000000</td>\n",
       "      <td>2000.000000</td>\n",
       "      <td>1961.000000</td>\n",
       "    </tr>\n",
       "    <tr>\n",
       "      <th>mean</th>\n",
       "      <td>0.743450</td>\n",
       "      <td>142.673285</td>\n",
       "      <td>2910.418195</td>\n",
       "    </tr>\n",
       "    <tr>\n",
       "      <th>std</th>\n",
       "      <td>1.611737</td>\n",
       "      <td>139.339128</td>\n",
       "      <td>4002.917206</td>\n",
       "    </tr>\n",
       "    <tr>\n",
       "      <th>min</th>\n",
       "      <td>0.000000</td>\n",
       "      <td>10.830000</td>\n",
       "      <td>13.400000</td>\n",
       "    </tr>\n",
       "    <tr>\n",
       "      <th>25%</th>\n",
       "      <td>0.000000</td>\n",
       "      <td>52.440000</td>\n",
       "      <td>740.000000</td>\n",
       "    </tr>\n",
       "    <tr>\n",
       "      <th>50%</th>\n",
       "      <td>0.000000</td>\n",
       "      <td>172.140000</td>\n",
       "      <td>1900.000000</td>\n",
       "    </tr>\n",
       "    <tr>\n",
       "      <th>75%</th>\n",
       "      <td>0.000000</td>\n",
       "      <td>172.140000</td>\n",
       "      <td>4000.000000</td>\n",
       "    </tr>\n",
       "    <tr>\n",
       "      <th>max</th>\n",
       "      <td>5.000000</td>\n",
       "      <td>2409.900000</td>\n",
       "      <td>55000.000000</td>\n",
       "    </tr>\n",
       "  </tbody>\n",
       "</table>\n",
       "</div>"
      ],
      "text/plain": [
       "              rate     delivery         price\n",
       "count  2000.000000  2000.000000   1961.000000\n",
       "mean      0.743450   142.673285   2910.418195\n",
       "std       1.611737   139.339128   4002.917206\n",
       "min       0.000000    10.830000     13.400000\n",
       "25%       0.000000    52.440000    740.000000\n",
       "50%       0.000000   172.140000   1900.000000\n",
       "75%       0.000000   172.140000   4000.000000\n",
       "max       5.000000  2409.900000  55000.000000"
      ]
     },
     "execution_count": 194,
     "metadata": {},
     "output_type": "execute_result"
    }
   ],
   "source": [
    "#Calcula informações como média, desvio padrão, etc.\n",
    "\n",
    "df.describe()"
   ]
  },
  {
   "cell_type": "code",
   "execution_count": 195,
   "id": "716dd7be",
   "metadata": {},
   "outputs": [
    {
     "name": "stdout",
     "output_type": "stream",
     "text": [
      "<class 'pandas.core.frame.DataFrame'>\n",
      "RangeIndex: 2000 entries, 0 to 1999\n",
      "Data columns (total 7 columns):\n",
      " #   Column     Non-Null Count  Dtype  \n",
      "---  ------     --------------  -----  \n",
      " 0   furniture  2000 non-null   object \n",
      " 1   type       2000 non-null   object \n",
      " 2   url        2000 non-null   object \n",
      " 3   rate       2000 non-null   float64\n",
      " 4   delivery   2000 non-null   float64\n",
      " 5   sale       2000 non-null   object \n",
      " 6   price      1961 non-null   float64\n",
      "dtypes: float64(3), object(4)\n",
      "memory usage: 109.5+ KB\n"
     ]
    }
   ],
   "source": [
    "#Informações do DF, notamos valores NAN no price\n",
    "\n",
    "df.info()"
   ]
  },
  {
   "cell_type": "code",
   "execution_count": 196,
   "id": "df83f1a4",
   "metadata": {},
   "outputs": [
    {
     "name": "stderr",
     "output_type": "stream",
     "text": [
      "C:\\Users\\lucas.carillo\\AppData\\Local\\Temp\\ipykernel_13672\\2066469063.py:3: FutureWarning: The default value of numeric_only in DataFrame.corr is deprecated. In a future version, it will default to False. Select only valid columns or specify the value of numeric_only to silence this warning.\n",
      "  df.corr()\n"
     ]
    },
    {
     "data": {
      "text/html": [
       "<div>\n",
       "<style scoped>\n",
       "    .dataframe tbody tr th:only-of-type {\n",
       "        vertical-align: middle;\n",
       "    }\n",
       "\n",
       "    .dataframe tbody tr th {\n",
       "        vertical-align: top;\n",
       "    }\n",
       "\n",
       "    .dataframe thead th {\n",
       "        text-align: right;\n",
       "    }\n",
       "</style>\n",
       "<table border=\"1\" class=\"dataframe\">\n",
       "  <thead>\n",
       "    <tr style=\"text-align: right;\">\n",
       "      <th></th>\n",
       "      <th>rate</th>\n",
       "      <th>delivery</th>\n",
       "      <th>price</th>\n",
       "    </tr>\n",
       "  </thead>\n",
       "  <tbody>\n",
       "    <tr>\n",
       "      <th>rate</th>\n",
       "      <td>1.000000</td>\n",
       "      <td>-0.112733</td>\n",
       "      <td>-0.020497</td>\n",
       "    </tr>\n",
       "    <tr>\n",
       "      <th>delivery</th>\n",
       "      <td>-0.112733</td>\n",
       "      <td>1.000000</td>\n",
       "      <td>0.101149</td>\n",
       "    </tr>\n",
       "    <tr>\n",
       "      <th>price</th>\n",
       "      <td>-0.020497</td>\n",
       "      <td>0.101149</td>\n",
       "      <td>1.000000</td>\n",
       "    </tr>\n",
       "  </tbody>\n",
       "</table>\n",
       "</div>"
      ],
      "text/plain": [
       "              rate  delivery     price\n",
       "rate      1.000000 -0.112733 -0.020497\n",
       "delivery -0.112733  1.000000  0.101149\n",
       "price    -0.020497  0.101149  1.000000"
      ]
     },
     "execution_count": 196,
     "metadata": {},
     "output_type": "execute_result"
    }
   ],
   "source": [
    "#Verifica a relação entre as variaveis\n",
    "\n",
    "df.corr()"
   ]
  },
  {
   "cell_type": "code",
   "execution_count": 197,
   "id": "44233e0d",
   "metadata": {},
   "outputs": [
    {
     "data": {
      "text/plain": [
       "furniture     0\n",
       "type          0\n",
       "url           0\n",
       "rate          0\n",
       "delivery      0\n",
       "sale          0\n",
       "price        39\n",
       "dtype: int64"
      ]
     },
     "execution_count": 197,
     "metadata": {},
     "output_type": "execute_result"
    }
   ],
   "source": [
    "#Verifica valores nulos - NAN é não forncecido\n",
    "\n",
    "df.isnull().sum()"
   ]
  },
  {
   "cell_type": "code",
   "execution_count": 198,
   "id": "fb373ba6",
   "metadata": {},
   "outputs": [
    {
     "data": {
      "text/plain": [
       "39"
      ]
     },
     "execution_count": 198,
     "metadata": {},
     "output_type": "execute_result"
    }
   ],
   "source": [
    "#Nota-se 39 valores NAN na coluna price\n",
    "\n",
    "df['price'].isnull().sum()"
   ]
  },
  {
   "cell_type": "code",
   "execution_count": 203,
   "id": "1b67e3b2",
   "metadata": {},
   "outputs": [
    {
     "name": "stdout",
     "output_type": "stream",
     "text": [
      "<class 'pandas.core.frame.DataFrame'>\n",
      "RangeIndex: 2000 entries, 0 to 1999\n",
      "Data columns (total 6 columns):\n",
      " #   Column     Non-Null Count  Dtype  \n",
      "---  ------     --------------  -----  \n",
      " 0   furniture  2000 non-null   object \n",
      " 1   type       2000 non-null   object \n",
      " 2   rate       2000 non-null   float64\n",
      " 3   delivery   2000 non-null   float64\n",
      " 4   sale       2000 non-null   object \n",
      " 5   price      2000 non-null   float64\n",
      "dtypes: float64(3), object(3)\n",
      "memory usage: 93.9+ KB\n"
     ]
    }
   ],
   "source": [
    "#classe SimpleImputer do scikit-learn para preencher os valores ausentes na coluna \"price\" do df\n",
    "\n",
    "from sklearn.impute import SimpleImputer\n",
    "import numpy as np\n",
    "\n",
    "imputer = SimpleImputer(missing_values=np.nan, strategy='mean')\n",
    "df.price = imputer.fit_transform(df[[\"price\"]])\n",
    "df.info()"
   ]
  },
  {
   "cell_type": "code",
   "execution_count": 200,
   "id": "1e95b781",
   "metadata": {},
   "outputs": [],
   "source": [
    "df.drop(['url'], axis=1, inplace=True)"
   ]
  },
  {
   "cell_type": "code",
   "execution_count": 201,
   "id": "83b42bee",
   "metadata": {},
   "outputs": [
    {
     "data": {
      "text/plain": [
       "Modern Home                                                           678\n",
       "Rango                                                                  81\n",
       "Marfy Touch                                                            57\n",
       "General                                                                51\n",
       "Artistico                                                              44\n",
       "                                                                     ... \n",
       "Modern Home R        PCS                                                1\n",
       "Epoch Sylvanian Families Ka     Shining room light                      1\n",
       "Sprayer model coloring  art drawing                                     1\n",
       "Rango Romantic Chair   Black                                            1\n",
       "Casio Standard Analogue Ladys Standard Analog Women s LTP V   G  A      1\n",
       "Name: type, Length: 592, dtype: int64"
      ]
     },
     "execution_count": 201,
     "metadata": {},
     "output_type": "execute_result"
    }
   ],
   "source": [
    "df[\"type\"].value_counts()"
   ]
  },
  {
   "cell_type": "code",
   "execution_count": 205,
   "id": "edbc5ce9",
   "metadata": {},
   "outputs": [
    {
     "data": {
      "text/plain": [
       "0       72\n",
       "1       54\n",
       "2       18\n",
       "3       58\n",
       "4       54\n",
       "        ..\n",
       "1995     0\n",
       "1996     0\n",
       "1997     0\n",
       "1998     9\n",
       "1999    10\n",
       "Name: sale, Length: 2000, dtype: int32"
      ]
     },
     "execution_count": 205,
     "metadata": {},
     "output_type": "execute_result"
    }
   ],
   "source": [
    "df['sale'] = df['sale'].str.replace('%', '') \n",
    "df['sale'] = df['sale'].astype(int)\n",
    "df['sale']"
   ]
  },
  {
   "cell_type": "code",
   "execution_count": 183,
   "id": "50528850",
   "metadata": {
    "scrolled": true
   },
   "outputs": [
    {
     "data": {
      "text/plain": [
       "array([[<Axes: title={'center': 'rate'}>,\n",
       "        <Axes: title={'center': 'delivery'}>],\n",
       "       [<Axes: title={'center': 'sale'}>,\n",
       "        <Axes: title={'center': 'price'}>]], dtype=object)"
      ]
     },
     "execution_count": 183,
     "metadata": {},
     "output_type": "execute_result"
    },
    {
     "data": {
      "image/png": "[encoded data removed]",
      "text/plain": [
       "<Figure size 1200x800 with 4 Axes>"
      ]
     },
     "metadata": {},
     "output_type": "display_data"
    }
   ],
   "source": [
    "df.hist(figsize=(12,8))"
   ]
  },
  {
   "cell_type": "code",
   "execution_count": 185,
   "id": "8c096cfa",
   "metadata": {
    "scrolled": true
   },
   "outputs": [
    {
     "data": {
      "text/plain": [
       "<Axes: ylabel='price'>"
      ]
     },
     "execution_count": 185,
     "metadata": {},
     "output_type": "execute_result"
    },
    {
     "data": {
      "image/png": "[encoded data removed]",
      "text/plain": [
       "<Figure size 640x480 with 1 Axes>"
      ]
     },
     "metadata": {},
     "output_type": "display_data"
    }
   ],
   "source": [
    "sns.lineplot(df[\"price\"])"
   ]
  },
  {
   "cell_type": "code",
   "execution_count": 207,
   "id": "f288252e",
   "metadata": {},
   "outputs": [
    {
     "data": {
      "text/plain": [
       "1224"
      ]
     },
     "execution_count": 207,
     "metadata": {},
     "output_type": "execute_result"
    }
   ],
   "source": [
    "df[\"furniture\"].nunique()"
   ]
  },
  {
   "cell_type": "code",
   "execution_count": 208,
   "id": "8e9ec900",
   "metadata": {},
   "outputs": [
    {
     "data": {
      "text/plain": [
       "592"
      ]
     },
     "execution_count": 208,
     "metadata": {},
     "output_type": "execute_result"
    }
   ],
   "source": [
    "df[\"type\"].nunique()"
   ]
  },
  {
   "cell_type": "code",
   "execution_count": 215,
   "id": "933516e1",
   "metadata": {},
   "outputs": [],
   "source": [
    "from category_encoders import TargetEncoder\n",
    "\n",
    "feature_cat = [\"furniture\", \"type\"]\n",
    "target_encoder = TargetEncoder(cols=feature_cat)\n",
    "data_temp = target_encoder.fit_transform(df[feature_cat],df[\"price\"])"
   ]
  },
  {
   "cell_type": "code",
   "execution_count": 219,
   "id": "cf7a848e",
   "metadata": {},
   "outputs": [
    {
     "data": {
      "text/html": [
       "<div>\n",
       "<style scoped>\n",
       "    .dataframe tbody tr th:only-of-type {\n",
       "        vertical-align: middle;\n",
       "    }\n",
       "\n",
       "    .dataframe tbody tr th {\n",
       "        vertical-align: top;\n",
       "    }\n",
       "\n",
       "    .dataframe thead th {\n",
       "        text-align: right;\n",
       "    }\n",
       "</style>\n",
       "<table border=\"1\" class=\"dataframe\">\n",
       "  <thead>\n",
       "    <tr style=\"text-align: right;\">\n",
       "      <th></th>\n",
       "      <th>furniture</th>\n",
       "      <th>type</th>\n",
       "    </tr>\n",
       "  </thead>\n",
       "  <tbody>\n",
       "    <tr>\n",
       "      <th>0</th>\n",
       "      <td>2574.128948</td>\n",
       "      <td>2847.022840</td>\n",
       "    </tr>\n",
       "    <tr>\n",
       "      <th>1</th>\n",
       "      <td>2574.128948</td>\n",
       "      <td>2701.697412</td>\n",
       "    </tr>\n",
       "    <tr>\n",
       "      <th>2</th>\n",
       "      <td>2386.826865</td>\n",
       "      <td>2701.697412</td>\n",
       "    </tr>\n",
       "    <tr>\n",
       "      <th>3</th>\n",
       "      <td>2377.337947</td>\n",
       "      <td>2701.697412</td>\n",
       "    </tr>\n",
       "    <tr>\n",
       "      <th>4</th>\n",
       "      <td>2656.695707</td>\n",
       "      <td>2701.697412</td>\n",
       "    </tr>\n",
       "  </tbody>\n",
       "</table>\n",
       "</div>"
      ],
      "text/plain": [
       "     furniture         type\n",
       "0  2574.128948  2847.022840\n",
       "1  2574.128948  2701.697412\n",
       "2  2386.826865  2701.697412\n",
       "3  2377.337947  2701.697412\n",
       "4  2656.695707  2701.697412"
      ]
     },
     "execution_count": 219,
     "metadata": {},
     "output_type": "execute_result"
    }
   ],
   "source": [
    "data_temp.head()"
   ]
  },
  {
   "cell_type": "code",
   "execution_count": 221,
   "id": "545899a6",
   "metadata": {},
   "outputs": [],
   "source": [
    "df[\"furniture\"] = data_temp[\"furniture\"]\n",
    "df[\"type\"] = data_temp[\"type\"]"
   ]
  },
  {
   "cell_type": "code",
   "execution_count": 222,
   "id": "5f41c3ce",
   "metadata": {},
   "outputs": [
    {
     "data": {
      "text/html": [
       "<div>\n",
       "<style scoped>\n",
       "    .dataframe tbody tr th:only-of-type {\n",
       "        vertical-align: middle;\n",
       "    }\n",
       "\n",
       "    .dataframe tbody tr th {\n",
       "        vertical-align: top;\n",
       "    }\n",
       "\n",
       "    .dataframe thead th {\n",
       "        text-align: right;\n",
       "    }\n",
       "</style>\n",
       "<table border=\"1\" class=\"dataframe\">\n",
       "  <thead>\n",
       "    <tr style=\"text-align: right;\">\n",
       "      <th></th>\n",
       "      <th>furniture</th>\n",
       "      <th>type</th>\n",
       "      <th>rate</th>\n",
       "      <th>delivery</th>\n",
       "      <th>sale</th>\n",
       "      <th>price</th>\n",
       "    </tr>\n",
       "  </thead>\n",
       "  <tbody>\n",
       "    <tr>\n",
       "      <th>0</th>\n",
       "      <td>2574.128948</td>\n",
       "      <td>2847.022840</td>\n",
       "      <td>3.3</td>\n",
       "      <td>172.14</td>\n",
       "      <td>72</td>\n",
       "      <td>2500.0</td>\n",
       "    </tr>\n",
       "    <tr>\n",
       "      <th>1</th>\n",
       "      <td>2574.128948</td>\n",
       "      <td>2701.697412</td>\n",
       "      <td>0.0</td>\n",
       "      <td>172.14</td>\n",
       "      <td>54</td>\n",
       "      <td>1200.0</td>\n",
       "    </tr>\n",
       "    <tr>\n",
       "      <th>2</th>\n",
       "      <td>2386.826865</td>\n",
       "      <td>2701.697412</td>\n",
       "      <td>0.0</td>\n",
       "      <td>172.14</td>\n",
       "      <td>18</td>\n",
       "      <td>1099.0</td>\n",
       "    </tr>\n",
       "    <tr>\n",
       "      <th>3</th>\n",
       "      <td>2377.337947</td>\n",
       "      <td>2701.697412</td>\n",
       "      <td>0.0</td>\n",
       "      <td>172.14</td>\n",
       "      <td>58</td>\n",
       "      <td>1200.0</td>\n",
       "    </tr>\n",
       "    <tr>\n",
       "      <th>4</th>\n",
       "      <td>2656.695707</td>\n",
       "      <td>2701.697412</td>\n",
       "      <td>5.0</td>\n",
       "      <td>52.44</td>\n",
       "      <td>54</td>\n",
       "      <td>1400.0</td>\n",
       "    </tr>\n",
       "  </tbody>\n",
       "</table>\n",
       "</div>"
      ],
      "text/plain": [
       "     furniture         type  rate  delivery  sale   price\n",
       "0  2574.128948  2847.022840   3.3    172.14    72  2500.0\n",
       "1  2574.128948  2701.697412   0.0    172.14    54  1200.0\n",
       "2  2386.826865  2701.697412   0.0    172.14    18  1099.0\n",
       "3  2377.337947  2701.697412   0.0    172.14    58  1200.0\n",
       "4  2656.695707  2701.697412   5.0     52.44    54  1400.0"
      ]
     },
     "execution_count": 222,
     "metadata": {},
     "output_type": "execute_result"
    }
   ],
   "source": [
    "df.head()"
   ]
  },
  {
   "cell_type": "code",
   "execution_count": 230,
   "id": "1a2b08b5",
   "metadata": {},
   "outputs": [],
   "source": [
    "from sklearn.model_selection import train_test_split\n",
    "from sklearn.compose import make_column_transformer\n",
    "from sklearn.preprocessing import MinMaxScaler\n",
    "\n",
    "X = df.drop(\"price\", axis=1) #pega todas as colunas, exeto a coluna price\n",
    "y = df[\"price\"] #pega a coluna price\n",
    "\n",
    "#dividir o conjunto de dados em um conjunto de treinamento\n",
    "#20% para teste e 80% no treinamento\n",
    "X_train, X_test, y_train, y_test = train_test_split(X, y, test_size=0.2, random_state=42) \n",
    "\n",
    "\n",
    "ct = make_column_transformer(\n",
    "    (MinMaxScaler(), ['furniture', 'type', 'rate', 'delivery', 'sale'])\n",
    ")\n",
    "ct.fit(X_train)\n",
    "\n",
    "X_train = ct.transform(X_train)\n",
    "X_test = ct.transform(X_test)"
   ]
  },
  {
   "cell_type": "code",
   "execution_count": 231,
   "id": "eb8c6f91",
   "metadata": {},
   "outputs": [
    {
     "data": {
      "text/plain": [
       "(1600, 5)"
      ]
     },
     "execution_count": 231,
     "metadata": {},
     "output_type": "execute_result"
    }
   ],
   "source": [
    "X_train.shape  #1600 linhas e 5 colunas"
   ]
  },
  {
   "cell_type": "code",
   "execution_count": 232,
   "id": "ed4086e0",
   "metadata": {},
   "outputs": [
    {
     "data": {
      "text/plain": [
       "array([[0.03237515, 0.20282377, 0.        , 0.01734422, 0.11111111],\n",
       "       [0.02883663, 0.20282377, 0.        , 0.01734422, 0.44444444],\n",
       "       [0.07310865, 0.22500161, 0.        , 0.01734422, 0.54444444],\n",
       "       [0.0580156 , 0.20282377, 0.        , 0.01734422, 0.34444444],\n",
       "       [0.0944165 , 0.24281766, 0.        , 0.06723855, 0.        ]])"
      ]
     },
     "execution_count": 232,
     "metadata": {},
     "output_type": "execute_result"
    }
   ],
   "source": [
    "X_train[:5]"
   ]
  },
  {
   "cell_type": "code",
   "execution_count": 233,
   "id": "4ebc37cc",
   "metadata": {},
   "outputs": [
    {
     "data": {
      "text/plain": [
       "(1600,)"
      ]
     },
     "execution_count": 233,
     "metadata": {},
     "output_type": "execute_result"
    }
   ],
   "source": [
    "y_train.shape"
   ]
  },
  {
   "cell_type": "code",
   "execution_count": 247,
   "id": "ec9bbe02",
   "metadata": {},
   "outputs": [
    {
     "data": {
      "text/plain": [
       "968     506.0\n",
       "240     999.0\n",
       "819    2800.0\n",
       "692    1950.0\n",
       "420    4000.0\n",
       "Name: price, dtype: float64"
      ]
     },
     "execution_count": 247,
     "metadata": {},
     "output_type": "execute_result"
    }
   ],
   "source": [
    "y_train[:5]"
   ]
  },
  {
   "cell_type": "code",
   "execution_count": 235,
   "id": "778c5747",
   "metadata": {},
   "outputs": [
    {
     "data": {
      "text/plain": [
       "(numpy.ndarray, pandas.core.series.Series)"
      ]
     },
     "execution_count": 235,
     "metadata": {},
     "output_type": "execute_result"
    }
   ],
   "source": [
    "type(X_train), type(y_train)"
   ]
  },
  {
   "cell_type": "code",
   "execution_count": 237,
   "id": "5a2dda43",
   "metadata": {},
   "outputs": [],
   "source": [
    "from sklearn.linear_model import LinearRegression\n",
    "\n",
    "reg = LinearRegression().fit(X_train, y_train)\n",
    "y_pred = reg.predict(X_test)"
   ]
  },
  {
   "cell_type": "code",
   "execution_count": 239,
   "id": "c89ebf31",
   "metadata": {},
   "outputs": [
    {
     "data": {
      "text/plain": [
       "0.8081045341921821"
      ]
     },
     "execution_count": 239,
     "metadata": {},
     "output_type": "execute_result"
    }
   ],
   "source": [
    "from sklearn.metrics import r2_score\n",
    "r2_score(y_test, y_pred)"
   ]
  },
  {
   "cell_type": "code",
   "execution_count": 240,
   "id": "ec33c983",
   "metadata": {
    "scrolled": true
   },
   "outputs": [
    {
     "data": {
      "text/plain": [
       "<Axes: xlabel='price'>"
      ]
     },
     "execution_count": 240,
     "metadata": {},
     "output_type": "execute_result"
    },
    {
     "data": {
      "image/png": "[encoded data removed]",
      "text/plain": [
       "<Figure size 640x480 with 1 Axes>"
      ]
     },
     "metadata": {},
     "output_type": "display_data"
    }
   ],
   "source": [
    "sns.regplot(x= y_test, y = y_pred)"
   ]
  },
  {
   "cell_type": "code",
   "execution_count": null,
   "id": "54bb8182",
   "metadata": {},
   "outputs": [],
   "source": []
  }
 ],
 "metadata": {
  "kernelspec": {
   "display_name": "Python 3 (ipykernel)",
   "language": "python",
   "name": "python3"
  },
  "language_info": {
   "codemirror_mode": {
    "name": "ipython",
    "version": 3
   },
   "file_extension": ".py",
   "mimetype": "text/x-python",
   "name": "python",
   "nbconvert_exporter": "python",
   "pygments_lexer": "ipython3",
   "version": "3.11.2"
  }
 },
 "nbformat": 4,
 "nbformat_minor": 5
}
